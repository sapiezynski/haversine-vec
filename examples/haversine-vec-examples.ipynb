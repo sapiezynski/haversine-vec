{
 "cells": [
  {
   "cell_type": "code",
   "execution_count": 6,
   "metadata": {
    "collapsed": false
   },
   "outputs": [],
   "source": [
    "import sys\n",
    "sys.path.append('../')\n",
    "import haversinevec as hv\n",
    "import numpy as np"
   ]
  },
  {
   "cell_type": "markdown",
   "metadata": {},
   "source": [
    "# Ex. 1: calculate a distance between a set of points and a reference point\n",
    "This is used for example to calculate the distance between each point in a cluster and the median point in the cluster"
   ]
  },
  {
   "cell_type": "code",
   "execution_count": 19,
   "metadata": {
    "collapsed": false
   },
   "outputs": [
    {
     "name": "stdout",
     "output_type": "stream",
     "text": [
      "Points: \n",
      "[[ 53.92959389  11.14784068]\n",
      " [ 54.57559475  13.25844501]\n",
      " [ 54.39491123  10.37053309]\n",
      " [ 53.11800798  11.99267043]\n",
      " [ 55.01358938  13.02808719]\n",
      " [ 53.43024189  12.166042  ]\n",
      " [ 54.54267359  11.80501571]\n",
      " [ 54.48866451  12.33336138]\n",
      " [ 55.57376858  12.54324252]\n",
      " [ 55.11443969  10.20658839]]\n",
      "\n",
      "Reference:  [ 54.52342104  13.06045042]\n",
      "\n",
      "Distances: \n",
      "[ 140.92259325   14.04107049  174.63560765  171.45936476   54.60485386\n",
      "  135.04436424   81.11736649   47.15346089  121.48649547  194.48897822]\n"
     ]
    }
   ],
   "source": [
    "points = np.random.randn(10,2)+(55, 12)\n",
    "ref = np.random.randn(2)+(55, 12)\n",
    "print 'Points: '\n",
    "print points\n",
    "print ''\n",
    "print 'Reference: ', ref\n",
    "print ''\n",
    "print 'Distances: '\n",
    "print hv.haversine(points, ref)"
   ]
  },
  {
   "cell_type": "markdown",
   "metadata": {},
   "source": [
    "# Ex. 2: calculate the distance between each two consecutive points in a list\n",
    "This can be used for example to calculate speed between each two location measurements\n"
   ]
  },
  {
   "cell_type": "code",
   "execution_count": 20,
   "metadata": {
    "collapsed": false
   },
   "outputs": [
    {
     "name": "stdout",
     "output_type": "stream",
     "text": [
      "Points: \n",
      "[[ 55.25683998  11.40127582]\n",
      " [ 56.39122739  12.73955354]\n",
      " [ 55.89404112  13.01532699]\n",
      " [ 55.48794344  11.74450442]\n",
      " [ 54.95598141  13.31222948]\n",
      " [ 54.60386677  10.99465321]\n",
      " [ 54.30341301  12.12826663]\n",
      " [ 54.7578454   12.99074994]\n",
      " [ 54.60396952  11.52150872]\n",
      " [ 52.50591727  12.17902929]]\n",
      "\n",
      "Distances: \n",
      "[ 151.48536336   57.92877942   91.65997256  115.82326136  153.85681642\n",
      "   80.62704743   75.25131544   96.09321185  237.56425977]\n"
     ]
    }
   ],
   "source": [
    "points = np.random.randn(10,2)+(55, 12)\n",
    "print 'Points: '\n",
    "print points\n",
    "print\n",
    "print 'Distances: '\n",
    "print hv.haversine(points[:-1], points[1:])\n"
   ]
  },
  {
   "cell_type": "markdown",
   "metadata": {},
   "source": [
    "# Ex. 3: calculate the distance between each two pairs of points in a list\n",
    "This can be used to preprocess the list of points before clustering, where a distance matrix is needed"
   ]
  },
  {
   "cell_type": "code",
   "execution_count": 21,
   "metadata": {
    "collapsed": false
   },
   "outputs": [
    {
     "name": "stdout",
     "output_type": "stream",
     "text": [
      "Points: \n",
      "[[ 54.81817672  12.89489088]\n",
      " [ 56.4577278   12.32384339]\n",
      " [ 55.62170887  11.42058169]\n",
      " [ 54.47171207  11.18330578]\n",
      " [ 54.35009004  11.72688846]\n",
      " [ 54.68634463  12.87974198]\n",
      " [ 55.938958    11.4461517 ]\n",
      " [ 53.22198266  12.39189546]\n",
      " [ 54.80177749  12.78012131]\n",
      " [ 53.95037502  13.53383694]]\n",
      "Condensed array: \n",
      "[ 186.0054707   129.47623257  116.79793151   91.6088223    14.70771643\n",
      "  154.78886303  180.70564895    7.58567522  105.1076493   108.69987167\n",
      "  232.4956506   237.63320189  200.26734646   79.30456383  360.22786915\n",
      "  186.55525062  289.49559594  128.90812263  142.90119835  139.47693515\n",
      "   35.35227034  274.43639751  125.6417907   230.23002528   37.72846256\n",
      "  112.02597778  164.18393266  160.16279485  109.23957024  163.64486386\n",
      "   83.36579268  177.7710436   132.97685087   84.53579113  125.92378676\n",
      "  166.40089059  166.11359344   14.35609356   92.28076572  308.53757773\n",
      "  152.13226474  258.4714867   177.68529849  110.76232452  106.63400604]\n",
      "\n",
      "Square array: \n",
      "[[   0.          186.0054707   129.47623257  116.79793151   91.6088223\n",
      "    14.70771643  154.78886303  180.70564895    7.58567522  105.1076493 ]\n",
      " [ 186.0054707     0.          108.69987167  232.4956506   237.63320189\n",
      "   200.26734646   79.30456383  360.22786915  186.55525062  289.49559594]\n",
      " [ 129.47623257  108.69987167    0.          128.90812263  142.90119835\n",
      "   139.47693515   35.35227034  274.43639751  125.6417907   230.23002528]\n",
      " [ 116.79793151  232.4956506   128.90812263    0.           37.72846256\n",
      "   112.02597778  164.18393266  160.16279485  109.23957024  163.64486386]\n",
      " [  91.6088223   237.63320189  142.90119835   37.72846256    0.\n",
      "    83.36579268  177.7710436   132.97685087   84.53579113  125.92378676]\n",
      " [  14.70771643  200.26734646  139.47693515  112.02597778   83.36579268\n",
      "     0.          166.40089059  166.11359344   14.35609356   92.28076572]\n",
      " [ 154.78886303   79.30456383   35.35227034  164.18393266  177.7710436\n",
      "   166.40089059    0.          308.53757773  152.13226474  258.4714867 ]\n",
      " [ 180.70564895  360.22786915  274.43639751  160.16279485  132.97685087\n",
      "   166.11359344  308.53757773    0.          177.68529849  110.76232452]\n",
      " [   7.58567522  186.55525062  125.6417907   109.23957024   84.53579113\n",
      "    14.35609356  152.13226474  177.68529849    0.          106.63400604]\n",
      " [ 105.1076493   289.49559594  230.23002528  163.64486386  125.92378676\n",
      "    92.28076572  258.4714867   110.76232452  106.63400604    0.        ]]\n"
     ]
    }
   ],
   "source": [
    "points = np.random.randn(10,2)+(55, 12)\n",
    "print 'Points: '\n",
    "print points\n",
    "pdist = hv.haversine_pdist(points)\n",
    "print 'Condensed array: '\n",
    "print pdist\n",
    "print\n",
    "from scipy.spatial.distance import squareform\n",
    "print 'Square array: '\n",
    "print squareform(pdist)"
   ]
  },
  {
   "cell_type": "markdown",
   "metadata": {},
   "source": [
    "# Ex 4: given two lists, calculate the distance between all combinations of points\n",
    "For example: you have a trace and a list of weather stations. Calculate the distance to all the stations and find the closets one"
   ]
  },
  {
   "cell_type": "code",
   "execution_count": 27,
   "metadata": {
    "collapsed": false
   },
   "outputs": [
    {
     "name": "stdout",
     "output_type": "stream",
     "text": [
      "Full distance matrix with 10 points in the trace and three stations: \n",
      "[[  98.84383691  112.36398194   46.83234064]\n",
      " [  94.65916568  190.35890088  127.42862051]\n",
      " [ 313.45956617  262.94636355  263.30213527]\n",
      " [ 103.03822328    9.31535769   91.42235313]\n",
      " [  53.7247292    60.4106995    81.86293184]\n",
      " [ 218.28132796  241.38929978  172.84770411]\n",
      " [ 216.12871368  167.04616404  167.18117801]\n",
      " [ 152.02125986   62.72634575  151.00285462]\n",
      " [  98.21680207  192.01044062  138.16234651]\n",
      " [ 132.17255353  225.47033192  148.13022948]]\n",
      "\n",
      "The closest station id for each point: \n",
      "[2 0 1 1 0 2 1 1 0 0]\n"
     ]
    }
   ],
   "source": [
    "points = np.random.randn(10,2)+(55, 12)\n",
    "stations = np.random.randn(3,2)+(55, 12)\n",
    "cdist = hv.haversine_cdist(points, stations)\n",
    "print 'Full distance matrix with 10 points in the trace and three stations: '\n",
    "print cdist\n",
    "print\n",
    "# now, find the closets station for each point\n",
    "print 'The closest station id for each point: '\n",
    "print np.argmin(cdist, axis=1)"
   ]
  },
  {
   "cell_type": "markdown",
   "metadata": {},
   "source": [
    "# Ex 5: is this faster than my default haversine?"
   ]
  },
  {
   "cell_type": "code",
   "execution_count": 41,
   "metadata": {
    "collapsed": false
   },
   "outputs": [
    {
     "name": "stdout",
     "output_type": "stream",
     "text": [
      "Default haversine: \n",
      "51.4074697495 seconds\n",
      "\n",
      "haversine-vec: \n",
      "0.493114948273 seconds\n",
      "Speedup factor:  104.250479385\n"
     ]
    }
   ],
   "source": [
    "from haversine import haversine\n",
    "import timeit\n",
    "\n",
    "def hv_default():\n",
    "    points = np.random.randn(10000,2)+(55, 12)\n",
    "    result = np.zeros((points.shape[0], ), dtype=np.float64)\n",
    "    for idx in range(0, points.shape[0]-1):\n",
    "        result[idx] = haversine(points[idx], points[-1])\n",
    "    return result[idx]\n",
    "\n",
    "def hv_vec():\n",
    "    points = np.random.randn(10000,2)+(55, 12)\n",
    "    return hv.haversine(points[:-1], points[-1])\n",
    "\n",
    "# first measure how much time it takes to generate the random points\n",
    "point_timeit = timeit.timeit('np.random.randn(10000,2)+(55, 12)', number=1000, setup=\"import numpy as np\")\n",
    "\n",
    "print 'Default haversine: '\n",
    "hv_default_timeit = timeit.timeit('hv_default()', number=1000, setup = \"from __main__ import hv_default\")\n",
    "print hv_default_timeit-point_timeit, 'seconds'\n",
    "\n",
    "print\n",
    "print 'haversine-vec: '\n",
    "hv_vec_timeit = timeit.timeit('hv_vec()', number=1000, setup = \"from __main__ import hv_vec\")\n",
    "print hv_vec_timeit-point_timeit, 'seconds'\n",
    "\n",
    "print 'Speedup factor: ', (hv_default_timeit-point_timeit)/(hv_vec_timeit-point_timeit)\n",
    "\n",
    "\n"
   ]
  },
  {
   "cell_type": "code",
   "execution_count": null,
   "metadata": {
    "collapsed": true
   },
   "outputs": [],
   "source": []
  }
 ],
 "metadata": {
  "kernelspec": {
   "display_name": "Python 2",
   "language": "python",
   "name": "python2"
  },
  "language_info": {
   "codemirror_mode": {
    "name": "ipython",
    "version": 2
   },
   "file_extension": ".py",
   "mimetype": "text/x-python",
   "name": "python",
   "nbconvert_exporter": "python",
   "pygments_lexer": "ipython2",
   "version": "2.7.12"
  }
 },
 "nbformat": 4,
 "nbformat_minor": 0
}
